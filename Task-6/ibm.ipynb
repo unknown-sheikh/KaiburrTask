{
  "cells": [
    {
      "cell_type": "code",
      "execution_count": null,
      "metadata": {
        "id": "hnr7bFEI0ySP"
      },
      "outputs": [],
      "source": [
        "import pandas as pd\n",
        "import numpy as np\n",
        "import seaborn as sns\n",
        "import matplotlib.pyplot as plt\n",
        "\n",
        "train = pd.read_csv(\"train.csv\")\n",
        "test = pd.read_csv(\"test.csv\")"
      ]
    },
    {
      "cell_type": "code",
      "execution_count": null,
      "metadata": {
        "id": "GaoHEHbF0yST",
        "outputId": "abe9c569-b565-49f1-bd02-37e696582463"
      },
      "outputs": [
        {
          "name": "stdout",
          "output_type": "stream",
          "text": [
            "<class 'pandas.core.frame.DataFrame'>\n",
            "RangeIndex: 456548 entries, 0 to 456547\n",
            "Data columns (total 9 columns):\n",
            "id                       456548 non-null int64\n",
            "week                     456548 non-null int64\n",
            "center_id                456548 non-null int64\n",
            "meal_id                  456548 non-null int64\n",
            "checkout_price           456548 non-null float64\n",
            "base_price               456548 non-null float64\n",
            "emailer_for_promotion    456548 non-null int64\n",
            "homepage_featured        456548 non-null int64\n",
            "num_orders               456548 non-null int64\n",
            "dtypes: float64(2), int64(7)\n",
            "memory usage: 31.3 MB\n"
          ]
        }
      ],
      "source": [
        "train.info()"
      ]
    },
    {
      "cell_type": "code",
      "execution_count": null,
      "metadata": {
        "id": "CrZPJdic0ySV",
        "outputId": "a4c6788c-6863-4d9f-d028-d11575ced4a0"
      },
      "outputs": [
        {
          "data": {
            "text/plain": [
              "id                       0\n",
              "week                     0\n",
              "center_id                0\n",
              "meal_id                  0\n",
              "checkout_price           0\n",
              "base_price               0\n",
              "emailer_for_promotion    0\n",
              "homepage_featured        0\n",
              "num_orders               0\n",
              "dtype: int64"
            ]
          },
          "execution_count": 3,
          "metadata": {},
          "output_type": "execute_result"
        }
      ],
      "source": [
        "train.isnull().sum()"
      ]
    },
    {
      "cell_type": "code",
      "execution_count": null,
      "metadata": {
        "id": "W6HRNEMW0ySW",
        "outputId": "cfdeb6c2-31ee-4861-e977-c1adc971903c"
      },
      "outputs": [
        {
          "data": {
            "text/plain": [
              "count    456548.000000\n",
              "mean        261.872760\n",
              "std         395.922798\n",
              "min          13.000000\n",
              "25%          54.000000\n",
              "50%         136.000000\n",
              "75%         324.000000\n",
              "max       24299.000000\n",
              "Name: num_orders, dtype: float64"
            ]
          },
          "execution_count": 4,
          "metadata": {},
          "output_type": "execute_result"
        }
      ],
      "source": [
        "train['num_orders'].describe()"
      ]
    },
    {
      "cell_type": "code",
      "execution_count": null,
      "metadata": {
        "id": "BwEnnXXL0ySW"
      },
      "outputs": [],
      "source": [
        "\n",
        "body = client_f6799ad66c264fd895b3f9a54eab8f7f.get_object(Bucket='food-donotdelete-pr-stjwyapce06k6l',Key='meal_info.csv')['Body']\n",
        "# add missing __iter__ method, so pandas accepts body as file-like object\n",
        "if not hasattr(body, \"__iter__\"): body.__iter__ = types.MethodType( __iter__, body )\n",
        "\n",
        "meal_info = pd.read_csv(body)\n",
        "meal_info.head()\n"
      ]
    },
    {
      "cell_type": "code",
      "execution_count": null,
      "metadata": {
        "id": "hSs-CPFW0ySX"
      },
      "outputs": [],
      "source": [
        "\n",
        "body = client_f6799ad66c264fd895b3f9a54eab8f7f.get_object(Bucket='food-donotdelete-pr-stjwyapce06k6l',Key='fulfilment_center_info.csv')['Body']\n",
        "# add missing __iter__ method, so pandas accepts body as file-like object\n",
        "if not hasattr(body, \"__iter__\"): body.__iter__ = types.MethodType( __iter__, body )\n",
        "\n",
        "center_info = pd.read_csv(body)\n",
        "center_info.head()\n"
      ]
    },
    {
      "cell_type": "code",
      "execution_count": null,
      "metadata": {
        "id": "0V6XMvFi0ySY"
      },
      "outputs": [],
      "source": [
        "trainfinal = pd.merge(train, meal_info, on=\"meal_id\", how=\"outer\")\n",
        "trainfinal = pd.merge(trainfinal, center_info, on=\"center_id\", how=\"outer\")\n",
        "trainfinal.head()"
      ]
    },
    {
      "cell_type": "code",
      "execution_count": null,
      "metadata": {
        "id": "6h4KPNu70ySY",
        "outputId": "6f37bc17-3b7b-4ab6-cd86-c949ec7ebb29"
      },
      "outputs": [
        {
          "data": {
            "text/html": [
              "<div>\n",
              "<style scoped>\n",
              "    .dataframe tbody tr th:only-of-type {\n",
              "        vertical-align: middle;\n",
              "    }\n",
              "\n",
              "    .dataframe tbody tr th {\n",
              "        vertical-align: top;\n",
              "    }\n",
              "\n",
              "    .dataframe thead th {\n",
              "        text-align: right;\n",
              "    }\n",
              "</style>\n",
              "<table border=\"1\" class=\"dataframe\">\n",
              "  <thead>\n",
              "    <tr style=\"text-align: right;\">\n",
              "      <th></th>\n",
              "      <th>id</th>\n",
              "      <th>week</th>\n",
              "      <th>checkout_price</th>\n",
              "      <th>base_price</th>\n",
              "      <th>emailer_for_promotion</th>\n",
              "      <th>homepage_featured</th>\n",
              "      <th>num_orders</th>\n",
              "      <th>category</th>\n",
              "      <th>cuisine</th>\n",
              "      <th>city_code</th>\n",
              "      <th>region_code</th>\n",
              "      <th>center_type</th>\n",
              "      <th>op_area</th>\n",
              "    </tr>\n",
              "  </thead>\n",
              "  <tbody>\n",
              "    <tr>\n",
              "      <th>0</th>\n",
              "      <td>1379560</td>\n",
              "      <td>1</td>\n",
              "      <td>136.83</td>\n",
              "      <td>152.29</td>\n",
              "      <td>0</td>\n",
              "      <td>0</td>\n",
              "      <td>177</td>\n",
              "      <td>Beverages</td>\n",
              "      <td>Thai</td>\n",
              "      <td>647</td>\n",
              "      <td>56</td>\n",
              "      <td>TYPE_C</td>\n",
              "      <td>2.0</td>\n",
              "    </tr>\n",
              "    <tr>\n",
              "      <th>1</th>\n",
              "      <td>1018704</td>\n",
              "      <td>2</td>\n",
              "      <td>135.83</td>\n",
              "      <td>152.29</td>\n",
              "      <td>0</td>\n",
              "      <td>0</td>\n",
              "      <td>323</td>\n",
              "      <td>Beverages</td>\n",
              "      <td>Thai</td>\n",
              "      <td>647</td>\n",
              "      <td>56</td>\n",
              "      <td>TYPE_C</td>\n",
              "      <td>2.0</td>\n",
              "    </tr>\n",
              "    <tr>\n",
              "      <th>2</th>\n",
              "      <td>1196273</td>\n",
              "      <td>3</td>\n",
              "      <td>132.92</td>\n",
              "      <td>133.92</td>\n",
              "      <td>0</td>\n",
              "      <td>0</td>\n",
              "      <td>96</td>\n",
              "      <td>Beverages</td>\n",
              "      <td>Thai</td>\n",
              "      <td>647</td>\n",
              "      <td>56</td>\n",
              "      <td>TYPE_C</td>\n",
              "      <td>2.0</td>\n",
              "    </tr>\n",
              "    <tr>\n",
              "      <th>3</th>\n",
              "      <td>1116527</td>\n",
              "      <td>4</td>\n",
              "      <td>135.86</td>\n",
              "      <td>134.86</td>\n",
              "      <td>0</td>\n",
              "      <td>0</td>\n",
              "      <td>163</td>\n",
              "      <td>Beverages</td>\n",
              "      <td>Thai</td>\n",
              "      <td>647</td>\n",
              "      <td>56</td>\n",
              "      <td>TYPE_C</td>\n",
              "      <td>2.0</td>\n",
              "    </tr>\n",
              "    <tr>\n",
              "      <th>4</th>\n",
              "      <td>1343872</td>\n",
              "      <td>5</td>\n",
              "      <td>146.50</td>\n",
              "      <td>147.50</td>\n",
              "      <td>0</td>\n",
              "      <td>0</td>\n",
              "      <td>215</td>\n",
              "      <td>Beverages</td>\n",
              "      <td>Thai</td>\n",
              "      <td>647</td>\n",
              "      <td>56</td>\n",
              "      <td>TYPE_C</td>\n",
              "      <td>2.0</td>\n",
              "    </tr>\n",
              "  </tbody>\n",
              "</table>\n",
              "</div>"
            ],
            "text/plain": [
              "        id  week  checkout_price  base_price  emailer_for_promotion  \\\n",
              "0  1379560     1          136.83      152.29                      0   \n",
              "1  1018704     2          135.83      152.29                      0   \n",
              "2  1196273     3          132.92      133.92                      0   \n",
              "3  1116527     4          135.86      134.86                      0   \n",
              "4  1343872     5          146.50      147.50                      0   \n",
              "\n",
              "   homepage_featured  num_orders   category cuisine  city_code  region_code  \\\n",
              "0                  0         177  Beverages    Thai        647           56   \n",
              "1                  0         323  Beverages    Thai        647           56   \n",
              "2                  0          96  Beverages    Thai        647           56   \n",
              "3                  0         163  Beverages    Thai        647           56   \n",
              "4                  0         215  Beverages    Thai        647           56   \n",
              "\n",
              "  center_type  op_area  \n",
              "0      TYPE_C      2.0  \n",
              "1      TYPE_C      2.0  \n",
              "2      TYPE_C      2.0  \n",
              "3      TYPE_C      2.0  \n",
              "4      TYPE_C      2.0  "
            ]
          },
          "execution_count": 10,
          "metadata": {},
          "output_type": "execute_result"
        }
      ],
      "source": [
        "trainfinal = trainfinal.drop(['center_id', 'meal_id'], axis=1)\n",
        "trainfinal.head()"
      ]
    },
    {
      "cell_type": "code",
      "execution_count": null,
      "metadata": {
        "id": "JzLrpama0ySZ",
        "outputId": "9d735ef4-9bd9-4d1d-bbdc-23ae8110c14e"
      },
      "outputs": [
        {
          "name": "stdout",
          "output_type": "stream",
          "text": [
            "['id', 'week', 'checkout_price', 'base_price', 'emailer_for_promotion', 'homepage_featured', 'num_orders', 'category', 'cuisine', 'city_code', 'region_code', 'center_type', 'op_area']\n"
          ]
        }
      ],
      "source": [
        "cols = trainfinal.columns.tolist()\n",
        "print(cols)"
      ]
    },
    {
      "cell_type": "code",
      "execution_count": null,
      "metadata": {
        "id": "x8GuQiMx0ySa",
        "outputId": "25c68f98-c590-4bf4-bc2a-f48e363e248c"
      },
      "outputs": [
        {
          "name": "stdout",
          "output_type": "stream",
          "text": [
            "['id', 'week', 'city_code', 'region_code', 'center_type', 'op_area', 'category', 'cuisine', 'checkout_price', 'base_price', 'emailer_for_promotion', 'homepage_featured', 'num_orders']\n"
          ]
        }
      ],
      "source": [
        "cols = cols[:2] + cols[9:] + cols[7:9] + cols[2:7]\n",
        "print(cols)"
      ]
    },
    {
      "cell_type": "code",
      "execution_count": null,
      "metadata": {
        "id": "omFVULRi0ySa"
      },
      "outputs": [],
      "source": [
        "trainfinal = trainfinal[cols]"
      ]
    },
    {
      "cell_type": "code",
      "execution_count": null,
      "metadata": {
        "id": "edgiuwSi0ySa",
        "outputId": "aa4fd995-ba62-4a8b-e2ac-86eea3936822"
      },
      "outputs": [
        {
          "data": {
            "text/plain": [
              "id                         int64\n",
              "week                       int64\n",
              "city_code                  int64\n",
              "region_code                int64\n",
              "center_type               object\n",
              "op_area                  float64\n",
              "category                  object\n",
              "cuisine                   object\n",
              "checkout_price           float64\n",
              "base_price               float64\n",
              "emailer_for_promotion      int64\n",
              "homepage_featured          int64\n",
              "num_orders                 int64\n",
              "dtype: object"
            ]
          },
          "execution_count": 14,
          "metadata": {},
          "output_type": "execute_result"
        }
      ],
      "source": [
        "trainfinal.dtypes"
      ]
    },
    {
      "cell_type": "code",
      "execution_count": null,
      "metadata": {
        "id": "-5ZfDlhR0ySb"
      },
      "outputs": [],
      "source": [
        "from sklearn.preprocessing import LabelEncoder"
      ]
    },
    {
      "cell_type": "code",
      "execution_count": null,
      "metadata": {
        "id": "1u-_g88a0ySb"
      },
      "outputs": [],
      "source": [
        "lb1 = LabelEncoder()\n",
        "trainfinal['center_type'] = lb1.fit_transform(trainfinal['center_type'])\n",
        "\n",
        "lb2 = LabelEncoder()\n",
        "trainfinal['category'] = lb1.fit_transform(trainfinal['category'])\n",
        "\n",
        "lb3 = LabelEncoder()\n",
        "trainfinal['cuisine'] = lb1.fit_transform(trainfinal['cuisine'])"
      ]
    },
    {
      "cell_type": "code",
      "execution_count": null,
      "metadata": {
        "id": "fgHGv1OB0ySc",
        "outputId": "e848f002-da48-4322-a9d9-aeb9eb64bad7"
      },
      "outputs": [
        {
          "data": {
            "text/html": [
              "<div>\n",
              "<style scoped>\n",
              "    .dataframe tbody tr th:only-of-type {\n",
              "        vertical-align: middle;\n",
              "    }\n",
              "\n",
              "    .dataframe tbody tr th {\n",
              "        vertical-align: top;\n",
              "    }\n",
              "\n",
              "    .dataframe thead th {\n",
              "        text-align: right;\n",
              "    }\n",
              "</style>\n",
              "<table border=\"1\" class=\"dataframe\">\n",
              "  <thead>\n",
              "    <tr style=\"text-align: right;\">\n",
              "      <th></th>\n",
              "      <th>id</th>\n",
              "      <th>week</th>\n",
              "      <th>city_code</th>\n",
              "      <th>region_code</th>\n",
              "      <th>center_type</th>\n",
              "      <th>op_area</th>\n",
              "      <th>category</th>\n",
              "      <th>cuisine</th>\n",
              "      <th>checkout_price</th>\n",
              "      <th>base_price</th>\n",
              "      <th>emailer_for_promotion</th>\n",
              "      <th>homepage_featured</th>\n",
              "      <th>num_orders</th>\n",
              "    </tr>\n",
              "  </thead>\n",
              "  <tbody>\n",
              "    <tr>\n",
              "      <th>0</th>\n",
              "      <td>1379560</td>\n",
              "      <td>1</td>\n",
              "      <td>647</td>\n",
              "      <td>56</td>\n",
              "      <td>2</td>\n",
              "      <td>2.0</td>\n",
              "      <td>0</td>\n",
              "      <td>3</td>\n",
              "      <td>136.83</td>\n",
              "      <td>152.29</td>\n",
              "      <td>0</td>\n",
              "      <td>0</td>\n",
              "      <td>177</td>\n",
              "    </tr>\n",
              "    <tr>\n",
              "      <th>1</th>\n",
              "      <td>1018704</td>\n",
              "      <td>2</td>\n",
              "      <td>647</td>\n",
              "      <td>56</td>\n",
              "      <td>2</td>\n",
              "      <td>2.0</td>\n",
              "      <td>0</td>\n",
              "      <td>3</td>\n",
              "      <td>135.83</td>\n",
              "      <td>152.29</td>\n",
              "      <td>0</td>\n",
              "      <td>0</td>\n",
              "      <td>323</td>\n",
              "    </tr>\n",
              "    <tr>\n",
              "      <th>2</th>\n",
              "      <td>1196273</td>\n",
              "      <td>3</td>\n",
              "      <td>647</td>\n",
              "      <td>56</td>\n",
              "      <td>2</td>\n",
              "      <td>2.0</td>\n",
              "      <td>0</td>\n",
              "      <td>3</td>\n",
              "      <td>132.92</td>\n",
              "      <td>133.92</td>\n",
              "      <td>0</td>\n",
              "      <td>0</td>\n",
              "      <td>96</td>\n",
              "    </tr>\n",
              "    <tr>\n",
              "      <th>3</th>\n",
              "      <td>1116527</td>\n",
              "      <td>4</td>\n",
              "      <td>647</td>\n",
              "      <td>56</td>\n",
              "      <td>2</td>\n",
              "      <td>2.0</td>\n",
              "      <td>0</td>\n",
              "      <td>3</td>\n",
              "      <td>135.86</td>\n",
              "      <td>134.86</td>\n",
              "      <td>0</td>\n",
              "      <td>0</td>\n",
              "      <td>163</td>\n",
              "    </tr>\n",
              "    <tr>\n",
              "      <th>4</th>\n",
              "      <td>1343872</td>\n",
              "      <td>5</td>\n",
              "      <td>647</td>\n",
              "      <td>56</td>\n",
              "      <td>2</td>\n",
              "      <td>2.0</td>\n",
              "      <td>0</td>\n",
              "      <td>3</td>\n",
              "      <td>146.50</td>\n",
              "      <td>147.50</td>\n",
              "      <td>0</td>\n",
              "      <td>0</td>\n",
              "      <td>215</td>\n",
              "    </tr>\n",
              "  </tbody>\n",
              "</table>\n",
              "</div>"
            ],
            "text/plain": [
              "        id  week  city_code  region_code  center_type  op_area  category  \\\n",
              "0  1379560     1        647           56            2      2.0         0   \n",
              "1  1018704     2        647           56            2      2.0         0   \n",
              "2  1196273     3        647           56            2      2.0         0   \n",
              "3  1116527     4        647           56            2      2.0         0   \n",
              "4  1343872     5        647           56            2      2.0         0   \n",
              "\n",
              "   cuisine  checkout_price  base_price  emailer_for_promotion  \\\n",
              "0        3          136.83      152.29                      0   \n",
              "1        3          135.83      152.29                      0   \n",
              "2        3          132.92      133.92                      0   \n",
              "3        3          135.86      134.86                      0   \n",
              "4        3          146.50      147.50                      0   \n",
              "\n",
              "   homepage_featured  num_orders  \n",
              "0                  0         177  \n",
              "1                  0         323  \n",
              "2                  0          96  \n",
              "3                  0         163  \n",
              "4                  0         215  "
            ]
          },
          "execution_count": 17,
          "metadata": {},
          "output_type": "execute_result"
        }
      ],
      "source": [
        "trainfinal.head()"
      ]
    },
    {
      "cell_type": "code",
      "execution_count": null,
      "metadata": {
        "id": "Oivwdd_T0ySc",
        "outputId": "a158dd7b-c3d7-4471-9a40-1e8c371ecdd9"
      },
      "outputs": [
        {
          "data": {
            "text/plain": [
              "(456548, 13)"
            ]
          },
          "execution_count": 18,
          "metadata": {},
          "output_type": "execute_result"
        }
      ],
      "source": [
        "trainfinal.shape"
      ]
    },
    {
      "cell_type": "code",
      "execution_count": null,
      "metadata": {
        "id": "z6QOitNt0ySd",
        "outputId": "cf5bf3bd-7de7-4d25-9d5e-eb739d3a4823"
      },
      "outputs": [
        {
          "name": "stderr",
          "output_type": "stream",
          "text": [
            "/opt/conda/envs/Python-3.8-main/lib/python3.8/site-packages/seaborn/distributions.py:2557: FutureWarning: `distplot` is a deprecated function and will be removed in a future version. Please adapt your code to use either `displot` (a figure-level function with similar flexibility) or `histplot` (an axes-level function for histograms).\n",
            "  warnings.warn(msg, FutureWarning)\n"
          ]
        },
        {
          "data": {
            "text/plain": [
              "Text(0.5, 1.0, 'num_orders Distribution')"
            ]
          },
          "execution_count": 19,
          "metadata": {},
          "output_type": "execute_result"
        },
        {
          "data": {
            "image/png": "[encoded data removed]",
            "text/plain": [
              "<Figure size 864x504 with 1 Axes>"
            ]
          },
          "metadata": {},
          "output_type": "display_data"
        }
      ],
      "source": [
        "plt.style.use('fivethirtyeight')\n",
        "plt.figure(figsize=(12,7))\n",
        "sns.distplot(trainfinal.num_orders, bins = 25)\n",
        "plt.xlabel(\"num_orders\")\n",
        "plt.ylabel(\"Number of Buyers\")\n",
        "plt.title(\"num_orders Distribution\")"
      ]
    },
    {
      "cell_type": "code",
      "execution_count": null,
      "metadata": {
        "id": "e03TdFxH0ySd",
        "outputId": "1c6eee26-d316-4850-d7db-8b5704b8a8db"
      },
      "outputs": [
        {
          "data": {
            "text/plain": [
              "Index(['num_orders', 'homepage_featured', 'emailer_for_promotion', 'op_area',\n",
              "       'cuisine', 'city_code', 'region_code', 'category'],\n",
              "      dtype='object')"
            ]
          },
          "execution_count": 20,
          "metadata": {},
          "output_type": "execute_result"
        }
      ],
      "source": [
        "trainfinal2 = trainfinal.drop(['id'], axis=1)\n",
        "correlation = trainfinal2.corr(method='pearson')\n",
        "columns = correlation.nlargest(8, 'num_orders').index\n",
        "columns"
      ]
    },
    {
      "cell_type": "code",
      "execution_count": null,
      "metadata": {
        "id": "JZ9JmMXk0ySe",
        "outputId": "2f9f5898-abaf-46d0-a0ab-d7379c19303f"
      },
      "outputs": [
        {
          "data": {
            "image/png": "[encoded data removed]",
            "text/plain": [
              "<Figure size 432x288 with 2 Axes>"
            ]
          },
          "metadata": {},
          "output_type": "display_data"
        }
      ],
      "source": [
        "correlation_map = np.corrcoef(trainfinal2[columns].values.T)\n",
        "sns.set(font_scale=1.0)\n",
        "heatmap = sns.heatmap(correlation_map, cbar=True, annot=True, square=True, fmt='.2f', yticklabels=columns.values, xticklabels=columns.values)\n",
        "\n",
        "plt.show()"
      ]
    },
    {
      "cell_type": "code",
      "execution_count": null,
      "metadata": {
        "id": "pRzhnWAh0ySe"
      },
      "outputs": [],
      "source": [
        "features = columns.drop(['num_orders'])\n",
        "trainfinal3 = trainfinal[features]\n",
        "X = trainfinal3.values\n",
        "y = trainfinal['num_orders'].values\n",
        "\n",
        "from sklearn.model_selection import train_test_split\n",
        "X_train, X_val, y_train, y_val = train_test_split(X, y, test_size=0.25)"
      ]
    },
    {
      "cell_type": "code",
      "execution_count": null,
      "metadata": {
        "id": "w8_8e9AB0ySf",
        "outputId": "2d63f66c-07e0-4ccc-a0ee-f2f302b86304"
      },
      "outputs": [
        {
          "data": {
            "text/html": [
              "<div>\n",
              "<style scoped>\n",
              "    .dataframe tbody tr th:only-of-type {\n",
              "        vertical-align: middle;\n",
              "    }\n",
              "\n",
              "    .dataframe tbody tr th {\n",
              "        vertical-align: top;\n",
              "    }\n",
              "\n",
              "    .dataframe thead th {\n",
              "        text-align: right;\n",
              "    }\n",
              "</style>\n",
              "<table border=\"1\" class=\"dataframe\">\n",
              "  <thead>\n",
              "    <tr style=\"text-align: right;\">\n",
              "      <th></th>\n",
              "      <th>homepage_featured</th>\n",
              "      <th>emailer_for_promotion</th>\n",
              "      <th>op_area</th>\n",
              "      <th>cuisine</th>\n",
              "      <th>city_code</th>\n",
              "      <th>region_code</th>\n",
              "      <th>category</th>\n",
              "    </tr>\n",
              "  </thead>\n",
              "  <tbody>\n",
              "    <tr>\n",
              "      <th>0</th>\n",
              "      <td>0</td>\n",
              "      <td>0</td>\n",
              "      <td>2.0</td>\n",
              "      <td>3</td>\n",
              "      <td>647</td>\n",
              "      <td>56</td>\n",
              "      <td>0</td>\n",
              "    </tr>\n",
              "    <tr>\n",
              "      <th>1</th>\n",
              "      <td>0</td>\n",
              "      <td>0</td>\n",
              "      <td>2.0</td>\n",
              "      <td>3</td>\n",
              "      <td>647</td>\n",
              "      <td>56</td>\n",
              "      <td>0</td>\n",
              "    </tr>\n",
              "    <tr>\n",
              "      <th>2</th>\n",
              "      <td>0</td>\n",
              "      <td>0</td>\n",
              "      <td>2.0</td>\n",
              "      <td>3</td>\n",
              "      <td>647</td>\n",
              "      <td>56</td>\n",
              "      <td>0</td>\n",
              "    </tr>\n",
              "    <tr>\n",
              "      <th>3</th>\n",
              "      <td>0</td>\n",
              "      <td>0</td>\n",
              "      <td>2.0</td>\n",
              "      <td>3</td>\n",
              "      <td>647</td>\n",
              "      <td>56</td>\n",
              "      <td>0</td>\n",
              "    </tr>\n",
              "    <tr>\n",
              "      <th>4</th>\n",
              "      <td>0</td>\n",
              "      <td>0</td>\n",
              "      <td>2.0</td>\n",
              "      <td>3</td>\n",
              "      <td>647</td>\n",
              "      <td>56</td>\n",
              "      <td>0</td>\n",
              "    </tr>\n",
              "  </tbody>\n",
              "</table>\n",
              "</div>"
            ],
            "text/plain": [
              "   homepage_featured  emailer_for_promotion  op_area  cuisine  city_code  \\\n",
              "0                  0                      0      2.0        3        647   \n",
              "1                  0                      0      2.0        3        647   \n",
              "2                  0                      0      2.0        3        647   \n",
              "3                  0                      0      2.0        3        647   \n",
              "4                  0                      0      2.0        3        647   \n",
              "\n",
              "   region_code  category  \n",
              "0           56         0  \n",
              "1           56         0  \n",
              "2           56         0  \n",
              "3           56         0  \n",
              "4           56         0  "
            ]
          },
          "execution_count": 23,
          "metadata": {},
          "output_type": "execute_result"
        }
      ],
      "source": [
        "trainfinal3.head()"
      ]
    },
    {
      "cell_type": "code",
      "execution_count": null,
      "metadata": {
        "id": "v7e0_8i60ySf"
      },
      "outputs": [],
      "source": [
        "from sklearn.linear_model import LinearRegression\n",
        "from sklearn.linear_model import Lasso\n",
        "from sklearn.linear_model import ElasticNet\n",
        "from sklearn.tree import DecisionTreeRegressor\n",
        "from sklearn.neighbors import KNeighborsRegressor\n",
        "from sklearn.ensemble import GradientBoostingRegressor"
      ]
    },
    {
      "cell_type": "code",
      "execution_count": null,
      "metadata": {
        "id": "FBAcYTzA0ySg",
        "outputId": "adb8b124-4ea5-4e33-f905-b5ac7d2d1735"
      },
      "outputs": [
        {
          "name": "stdout",
          "output_type": "stream",
          "text": [
            "RMSLE: 70.83462268671528\n"
          ]
        }
      ],
      "source": [
        "from xgboost import XGBRegressor\n",
        "XG = XGBRegressor()\n",
        "XG.fit(X_train, y_train)\n",
        "y_pred = XG.predict(X_val)\n",
        "y_pred[y_pred<0] = 0\n",
        "from sklearn import metrics\n",
        "print('RMSLE:', 100*np.sqrt(metrics.mean_squared_log_error(y_val, y_pred)))"
      ]
    },
    {
      "cell_type": "code",
      "execution_count": null,
      "metadata": {
        "id": "eXggWiMS0ySg",
        "outputId": "88b2f2e9-2c74-4296-f894-32fe4990a638"
      },
      "outputs": [
        {
          "name": "stdout",
          "output_type": "stream",
          "text": [
            "RMSLE: 129.5341934240543\n"
          ]
        }
      ],
      "source": [
        "LR = LinearRegression()\n",
        "LR.fit(X_train, y_train)\n",
        "y_pred = LR.predict(X_val)\n",
        "y_pred[y_pred<0] = 0\n",
        "from sklearn import metrics\n",
        "print('RMSLE:', 100*np.sqrt(metrics.mean_squared_log_error(y_val, y_pred)))"
      ]
    },
    {
      "cell_type": "code",
      "execution_count": null,
      "metadata": {
        "id": "7FCZBd100ySg",
        "outputId": "d0cc1160-9927-4308-e4f2-17fe842d35fb"
      },
      "outputs": [
        {
          "name": "stdout",
          "output_type": "stream",
          "text": [
            "RMSLE: 129.25233188608806\n"
          ]
        }
      ],
      "source": [
        "L = Lasso()\n",
        "L.fit(X_train, y_train)\n",
        "y_pred = L.predict(X_val)\n",
        "y_pred[y_pred<0] = 0\n",
        "from sklearn import metrics\n",
        "print('RMSLE:', 100*np.sqrt(metrics.mean_squared_log_error(y_val, y_pred)))"
      ]
    },
    {
      "cell_type": "code",
      "execution_count": null,
      "metadata": {
        "id": "MH5_ehkE0ySh",
        "outputId": "c91958e6-ca62-4b61-aac7-5a92bcbce450"
      },
      "outputs": [
        {
          "name": "stdout",
          "output_type": "stream",
          "text": [
            "RMSLE: 131.16949192712605\n"
          ]
        }
      ],
      "source": [
        "EN = ElasticNet()\n",
        "EN.fit(X_train, y_train)\n",
        "y_pred = EN.predict(X_val)\n",
        "y_pred[y_pred<0] = 0\n",
        "from sklearn import metrics\n",
        "print('RMSLE:', 100*np.sqrt(metrics.mean_squared_log_error(y_val, y_pred)))"
      ]
    },
    {
      "cell_type": "code",
      "execution_count": null,
      "metadata": {
        "id": "Us_AudPk0ySh",
        "outputId": "007f8ccb-3702-4ce5-c59c-4b32d84b17d2"
      },
      "outputs": [
        {
          "name": "stdout",
          "output_type": "stream",
          "text": [
            "RMSLE: 62.85318210383417\n"
          ]
        }
      ],
      "source": [
        "DT = DecisionTreeRegressor()\n",
        "DT.fit(X_train, y_train)\n",
        "y_pred = DT.predict(X_val)\n",
        "y_pred[y_pred<0] = 0\n",
        "from sklearn import metrics\n",
        "print('RMSLE:', 100*np.sqrt(metrics.mean_squared_log_error(y_val, y_pred)))"
      ]
    },
    {
      "cell_type": "code",
      "execution_count": null,
      "metadata": {
        "id": "iOXFwDA40ySh",
        "outputId": "2d59c676-0048-4732-8cda-afc6d855368b"
      },
      "outputs": [
        {
          "data": {
            "text/plain": [
              "<bound method BaseEstimator.get_params of DecisionTreeRegressor()>"
            ]
          },
          "execution_count": 30,
          "metadata": {},
          "output_type": "execute_result"
        }
      ],
      "source": [
        "DT.get_params"
      ]
    },
    {
      "cell_type": "code",
      "execution_count": null,
      "metadata": {
        "id": "kkZp-lGH0ySi",
        "outputId": "e8b6e77f-0913-4d0a-d829-d0822665b543"
      },
      "outputs": [
        {
          "name": "stdout",
          "output_type": "stream",
          "text": [
            "RMSLE: 67.16783539919223\n"
          ]
        }
      ],
      "source": [
        "KNN = KNeighborsRegressor()\n",
        "KNN.fit(X_train, y_train)\n",
        "y_pred = KNN.predict(X_val)\n",
        "y_pred[y_pred<0] = 0\n",
        "from sklearn import metrics\n",
        "print('RMSLE:', 100*np.sqrt(metrics.mean_squared_log_error(y_val, y_pred)))"
      ]
    },
    {
      "cell_type": "code",
      "execution_count": null,
      "metadata": {
        "id": "A8l8Mlul0ySi",
        "outputId": "cfa8a6d0-738e-472a-9f9a-60e2adc12d3d"
      },
      "outputs": [
        {
          "name": "stdout",
          "output_type": "stream",
          "text": [
            "RMSLE: 97.69866198206351\n"
          ]
        }
      ],
      "source": [
        "GB = GradientBoostingRegressor()\n",
        "GB.fit(X_train, y_train)\n",
        "y_pred = GB.predict(X_val)\n",
        "y_pred[y_pred<0] = 0\n",
        "from sklearn import metrics\n",
        "print('RMSLE:', 100*np.sqrt(metrics.mean_squared_log_error(y_val, y_pred)))"
      ]
    },
    {
      "cell_type": "code",
      "execution_count": null,
      "metadata": {
        "id": "YRvpWBkd0ySi",
        "outputId": "e83325b7-4df7-45b3-8645-481ed1467ac3"
      },
      "outputs": [
        {
          "name": "stdout",
          "output_type": "stream",
          "text": [
            "['id', 'week', 'checkout_price', 'base_price', 'emailer_for_promotion', 'homepage_featured', 'category', 'cuisine', 'city_code', 'region_code', 'center_type', 'op_area']\n"
          ]
        }
      ],
      "source": [
        "testfinal = pd.merge(test, meal_info, on=\"meal_id\", how=\"outer\")\n",
        "testfinal = pd.merge(testfinal, center_info, on=\"center_id\", how=\"outer\")\n",
        "testfinal = testfinal.drop(['meal_id', 'center_id'], axis=1)\n",
        "\n",
        "tcols = testfinal.columns.tolist()\n",
        "print(tcols)"
      ]
    },
    {
      "cell_type": "code",
      "execution_count": null,
      "metadata": {
        "id": "p9OhrM9p0ySj",
        "outputId": "d933f5ac-dd02-494a-9720-5e28b6d7769d"
      },
      "outputs": [
        {
          "data": {
            "text/html": [
              "<div>\n",
              "<style scoped>\n",
              "    .dataframe tbody tr th:only-of-type {\n",
              "        vertical-align: middle;\n",
              "    }\n",
              "\n",
              "    .dataframe tbody tr th {\n",
              "        vertical-align: top;\n",
              "    }\n",
              "\n",
              "    .dataframe thead th {\n",
              "        text-align: right;\n",
              "    }\n",
              "</style>\n",
              "<table border=\"1\" class=\"dataframe\">\n",
              "  <thead>\n",
              "    <tr style=\"text-align: right;\">\n",
              "      <th></th>\n",
              "      <th>id</th>\n",
              "      <th>week</th>\n",
              "      <th>city_code</th>\n",
              "      <th>region_code</th>\n",
              "      <th>center_type</th>\n",
              "      <th>op_area</th>\n",
              "      <th>category</th>\n",
              "      <th>cuisine</th>\n",
              "      <th>checkout_price</th>\n",
              "      <th>base_price</th>\n",
              "      <th>emailer_for_promotion</th>\n",
              "      <th>homepage_featured</th>\n",
              "    </tr>\n",
              "  </thead>\n",
              "  <tbody>\n",
              "    <tr>\n",
              "      <th>0</th>\n",
              "      <td>1028232</td>\n",
              "      <td>146</td>\n",
              "      <td>647</td>\n",
              "      <td>56</td>\n",
              "      <td>2</td>\n",
              "      <td>2.0</td>\n",
              "      <td>0</td>\n",
              "      <td>3</td>\n",
              "      <td>158.11</td>\n",
              "      <td>159.11</td>\n",
              "      <td>0</td>\n",
              "      <td>0</td>\n",
              "    </tr>\n",
              "    <tr>\n",
              "      <th>1</th>\n",
              "      <td>1262649</td>\n",
              "      <td>147</td>\n",
              "      <td>647</td>\n",
              "      <td>56</td>\n",
              "      <td>2</td>\n",
              "      <td>2.0</td>\n",
              "      <td>0</td>\n",
              "      <td>3</td>\n",
              "      <td>159.11</td>\n",
              "      <td>159.11</td>\n",
              "      <td>0</td>\n",
              "      <td>0</td>\n",
              "    </tr>\n",
              "    <tr>\n",
              "      <th>2</th>\n",
              "      <td>1453211</td>\n",
              "      <td>149</td>\n",
              "      <td>647</td>\n",
              "      <td>56</td>\n",
              "      <td>2</td>\n",
              "      <td>2.0</td>\n",
              "      <td>0</td>\n",
              "      <td>3</td>\n",
              "      <td>157.14</td>\n",
              "      <td>158.14</td>\n",
              "      <td>0</td>\n",
              "      <td>0</td>\n",
              "    </tr>\n",
              "    <tr>\n",
              "      <th>3</th>\n",
              "      <td>1262599</td>\n",
              "      <td>150</td>\n",
              "      <td>647</td>\n",
              "      <td>56</td>\n",
              "      <td>2</td>\n",
              "      <td>2.0</td>\n",
              "      <td>0</td>\n",
              "      <td>3</td>\n",
              "      <td>159.14</td>\n",
              "      <td>157.14</td>\n",
              "      <td>0</td>\n",
              "      <td>0</td>\n",
              "    </tr>\n",
              "    <tr>\n",
              "      <th>4</th>\n",
              "      <td>1495848</td>\n",
              "      <td>151</td>\n",
              "      <td>647</td>\n",
              "      <td>56</td>\n",
              "      <td>2</td>\n",
              "      <td>2.0</td>\n",
              "      <td>0</td>\n",
              "      <td>3</td>\n",
              "      <td>160.11</td>\n",
              "      <td>159.11</td>\n",
              "      <td>0</td>\n",
              "      <td>0</td>\n",
              "    </tr>\n",
              "  </tbody>\n",
              "</table>\n",
              "</div>"
            ],
            "text/plain": [
              "        id  week  city_code  region_code  center_type  op_area  category  \\\n",
              "0  1028232   146        647           56            2      2.0         0   \n",
              "1  1262649   147        647           56            2      2.0         0   \n",
              "2  1453211   149        647           56            2      2.0         0   \n",
              "3  1262599   150        647           56            2      2.0         0   \n",
              "4  1495848   151        647           56            2      2.0         0   \n",
              "\n",
              "   cuisine  checkout_price  base_price  emailer_for_promotion  \\\n",
              "0        3          158.11      159.11                      0   \n",
              "1        3          159.11      159.11                      0   \n",
              "2        3          157.14      158.14                      0   \n",
              "3        3          159.14      157.14                      0   \n",
              "4        3          160.11      159.11                      0   \n",
              "\n",
              "   homepage_featured  \n",
              "0                  0  \n",
              "1                  0  \n",
              "2                  0  \n",
              "3                  0  \n",
              "4                  0  "
            ]
          },
          "execution_count": 34,
          "metadata": {},
          "output_type": "execute_result"
        }
      ],
      "source": [
        "tcols = tcols[:2] + tcols[8:] + tcols[6:8] + tcols[2:6]\n",
        "testfinal = testfinal[tcols]\n",
        "\n",
        "lb1 = LabelEncoder()\n",
        "testfinal['center_type'] = lb1.fit_transform(testfinal['center_type'])\n",
        "\n",
        "lb2 = LabelEncoder()\n",
        "testfinal['category'] = lb1.fit_transform(testfinal['category'])\n",
        "\n",
        "lb3 = LabelEncoder()\n",
        "testfinal['cuisine'] = lb1.fit_transform(testfinal['cuisine'])\n",
        "\n",
        "testfinal.head()"
      ]
    },
    {
      "cell_type": "code",
      "execution_count": null,
      "metadata": {
        "id": "lTGF-CFc0ySj"
      },
      "outputs": [],
      "source": [
        "X_test = testfinal[features].values"
      ]
    },
    {
      "cell_type": "code",
      "execution_count": null,
      "metadata": {
        "id": "fCM0884X0ySj",
        "outputId": "a69d557b-80a1-4bfd-a945-484c14b169e7"
      },
      "outputs": [
        {
          "data": {
            "text/plain": [
              "Index(['homepage_featured', 'emailer_for_promotion', 'op_area', 'cuisine',\n",
              "       'city_code', 'region_code', 'category'],\n",
              "      dtype='object')"
            ]
          },
          "execution_count": 36,
          "metadata": {},
          "output_type": "execute_result"
        }
      ],
      "source": [
        "features"
      ]
    },
    {
      "cell_type": "code",
      "execution_count": null,
      "metadata": {
        "id": "mqcwzs4O0ySk"
      },
      "outputs": [],
      "source": [
        "pred = DT.predict(X_test)\n",
        "pred[pred<0] = 0\n",
        "submit = pd.DataFrame({\n",
        "    'id' : testfinal['id'],\n",
        "    'num_orders' : pred\n",
        "})"
      ]
    },
    {
      "cell_type": "code",
      "execution_count": null,
      "metadata": {
        "id": "RKyC-cbl0ySk"
      },
      "outputs": [],
      "source": [
        "submit.to_csv(\"submission.csv\", index=False)"
      ]
    },
    {
      "cell_type": "code",
      "execution_count": null,
      "metadata": {
        "id": "aaQll2LK0ySk",
        "outputId": "3e084dea-2b01-48ea-c1f7-71eed3238226"
      },
      "outputs": [
        {
          "data": {
            "text/html": [
              "<div>\n",
              "<style scoped>\n",
              "    .dataframe tbody tr th:only-of-type {\n",
              "        vertical-align: middle;\n",
              "    }\n",
              "\n",
              "    .dataframe tbody tr th {\n",
              "        vertical-align: top;\n",
              "    }\n",
              "\n",
              "    .dataframe thead th {\n",
              "        text-align: right;\n",
              "    }\n",
              "</style>\n",
              "<table border=\"1\" class=\"dataframe\">\n",
              "  <thead>\n",
              "    <tr style=\"text-align: right;\">\n",
              "      <th></th>\n",
              "      <th>id</th>\n",
              "      <th>num_orders</th>\n",
              "    </tr>\n",
              "  </thead>\n",
              "  <tbody>\n",
              "    <tr>\n",
              "      <th>count</th>\n",
              "      <td>3.257300e+04</td>\n",
              "      <td>32573.000000</td>\n",
              "    </tr>\n",
              "    <tr>\n",
              "      <th>mean</th>\n",
              "      <td>1.248476e+06</td>\n",
              "      <td>262.640344</td>\n",
              "    </tr>\n",
              "    <tr>\n",
              "      <th>std</th>\n",
              "      <td>1.441580e+05</td>\n",
              "      <td>362.733744</td>\n",
              "    </tr>\n",
              "    <tr>\n",
              "      <th>min</th>\n",
              "      <td>1.000085e+06</td>\n",
              "      <td>14.250000</td>\n",
              "    </tr>\n",
              "    <tr>\n",
              "      <th>25%</th>\n",
              "      <td>1.123969e+06</td>\n",
              "      <td>64.493671</td>\n",
              "    </tr>\n",
              "    <tr>\n",
              "      <th>50%</th>\n",
              "      <td>1.247296e+06</td>\n",
              "      <td>147.919847</td>\n",
              "    </tr>\n",
              "    <tr>\n",
              "      <th>75%</th>\n",
              "      <td>1.372971e+06</td>\n",
              "      <td>319.320000</td>\n",
              "    </tr>\n",
              "    <tr>\n",
              "      <th>max</th>\n",
              "      <td>1.499996e+06</td>\n",
              "      <td>5482.500000</td>\n",
              "    </tr>\n",
              "  </tbody>\n",
              "</table>\n",
              "</div>"
            ],
            "text/plain": [
              "                 id    num_orders\n",
              "count  3.257300e+04  32573.000000\n",
              "mean   1.248476e+06    262.640344\n",
              "std    1.441580e+05    362.733744\n",
              "min    1.000085e+06     14.250000\n",
              "25%    1.123969e+06     64.493671\n",
              "50%    1.247296e+06    147.919847\n",
              "75%    1.372971e+06    319.320000\n",
              "max    1.499996e+06   5482.500000"
            ]
          },
          "execution_count": 39,
          "metadata": {},
          "output_type": "execute_result"
        }
      ],
      "source": [
        "submit.describe()"
      ]
    }
  ],
  "metadata": {
    "kernelspec": {
      "display_name": "Python 3",
      "language": "python",
      "name": "python3"
    },
    "language_info": {
      "codemirror_mode": {
        "name": "ipython",
        "version": 3
      },
      "file_extension": ".py",
      "mimetype": "text/x-python",
      "name": "python",
      "nbconvert_exporter": "python",
      "pygments_lexer": "ipython3",
      "version": "3.7.3"
    },
    "colab": {
      "provenance": []
    }
  },
  "nbformat": 4,
  "nbformat_minor": 0
}